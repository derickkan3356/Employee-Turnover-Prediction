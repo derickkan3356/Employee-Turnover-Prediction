{
 "cells": [
  {
   "cell_type": "markdown",
   "metadata": {},
   "source": [
    "## Table of Contents\n",
    "1. [Import and Clean Data](#1.-Import-and-Clean-Data)\n",
    "    - [Clean data](#1.1-Clean-data)\n",
    "2. [Exploratory Data Analysis (EDA)](#2.-Exploratory-Data-Analysis-(EDA))\n",
    "3. [Transformation](#3.-Transformation)\n",
    "    - [Dummy encoding](#3.1-Dummy-encoding)\n",
    "        - [Variable correlation](#3.1.1-variable-correlation)\n",
    "    - [Standardization](#3.2-Standardization)\n",
    "    - [Dataset splitting](#3.3-Dataset-splitting)\n",
    "    - [SMOTE](#3.4-SMOTE)\n",
    "4. [Modeling](#4.-Modeling)\n",
    "5. [Evaluation](#5.-Evaluation)\n",
    "    - [Interpreting the Coefficients](#5.1-Interpreting-the-Coefficients)\n",
    "    - [Visualizing model performance](#5.2-Visualizing-model-performance)\n",
    "6. [Application](#6.Application)"
   ]
  },
  {
   "cell_type": "code",
   "execution_count": 1,
   "metadata": {},
   "outputs": [],
   "source": [
    "#Import Libraries\n",
    "import numpy as np\n",
    "import pandas as pd\n",
    "import matplotlib\n",
    "import matplotlib.pyplot as plt\n",
    "%matplotlib inline\n",
    "import seaborn as sns\n",
    "sns.set()\n",
    "import imblearn\n",
    "from imblearn.over_sampling import SMOTE \n",
    "import sklearn\n",
    "from sklearn.preprocessing import StandardScaler, LabelEncoder\n",
    "from sklearn.linear_model import LogisticRegression\n",
    "from sklearn.metrics import recall_score, f1_score, confusion_matrix, accuracy_score, classification_report, roc_auc_score, roc_curve, ConfusionMatrixDisplay\n",
    "import sys\n",
    "import warnings\n",
    "warnings.filterwarnings(\"ignore\")"
   ]
  },
  {
   "cell_type": "code",
   "execution_count": 2,
   "metadata": {},
   "outputs": [
    {
     "name": "stdout",
     "output_type": "stream",
     "text": [
      "Python version:  3.12.0 (tags/v3.12.0:0fb18b0, Oct  2 2023, 13:03:39) [MSC v.1935 64 bit (AMD64)]\n",
      "Numpy version:  1.26.1\n",
      "Pandas version:  2.1.2\n",
      "Matplotlib version:  3.8.1\n",
      "Seaborn version:  0.13.0\n",
      "Imblearn version: 0.11.0\n",
      "Scikit-learn version:  1.3.2\n"
     ]
    }
   ],
   "source": [
    "# python and library version\n",
    "print('Python version: ', sys.version)\n",
    "print('Numpy version: ', np.__version__)\n",
    "print('Pandas version: ', pd.__version__)\n",
    "print('Matplotlib version: ', matplotlib.__version__)\n",
    "print('Seaborn version: ', sns.__version__)\n",
    "print('Imblearn version:', imblearn.__version__)\n",
    "print('Scikit-learn version: ', sklearn.__version__)"
   ]
  },
  {
   "cell_type": "markdown",
   "metadata": {},
   "source": [
    "## 1. Import and Clean Data"
   ]
  },
  {
   "cell_type": "code",
   "execution_count": 3,
   "metadata": {},
   "outputs": [],
   "source": [
    "data = pd.read_csv(\"data/general_data.csv\",sep=\",\")"
   ]
  },
  {
   "cell_type": "code",
   "execution_count": 4,
   "metadata": {},
   "outputs": [
    {
     "name": "stdout",
     "output_type": "stream",
     "text": [
      "<class 'pandas.core.frame.DataFrame'>\n",
      "RangeIndex: 4410 entries, 0 to 4409\n",
      "Data columns (total 29 columns):\n",
      " #   Column                   Non-Null Count  Dtype  \n",
      "---  ------                   --------------  -----  \n",
      " 0   Attrition                4410 non-null   object \n",
      " 1   Age                      4410 non-null   int64  \n",
      " 2   BusinessTravel           4410 non-null   object \n",
      " 3   Department               4410 non-null   object \n",
      " 4   DistanceFromHome         4410 non-null   int64  \n",
      " 5   Education                4410 non-null   int64  \n",
      " 6   EducationField           4410 non-null   object \n",
      " 7   EmployeeCount            4410 non-null   int64  \n",
      " 8   EmployeeID               4410 non-null   int64  \n",
      " 9   Gender                   4410 non-null   object \n",
      " 10  JobLevel                 4410 non-null   int64  \n",
      " 11  JobRole                  4410 non-null   object \n",
      " 12  MaritalStatus            4410 non-null   object \n",
      " 13  MonthlyIncome            4410 non-null   int64  \n",
      " 14  NumCompaniesWorked       4391 non-null   float64\n",
      " 15  Over18                   4410 non-null   object \n",
      " 16  PercentSalaryHike        4410 non-null   int64  \n",
      " 17  StandardHours            4410 non-null   int64  \n",
      " 18  StockOptionLevel         4410 non-null   int64  \n",
      " 19  TotalWorkingYears        4401 non-null   float64\n",
      " 20  TrainingTimesLastYear    4410 non-null   int64  \n",
      " 21  YearsAtCompany           4410 non-null   int64  \n",
      " 22  YearsSinceLastPromotion  4410 non-null   int64  \n",
      " 23  YearsWithCurrManager     4410 non-null   int64  \n",
      " 24  PerformanceRating        4410 non-null   int64  \n",
      " 25  JobInvolvement           4410 non-null   int64  \n",
      " 26  EnvironmentSatisfaction  4385 non-null   float64\n",
      " 27  JobSatisfaction          4390 non-null   float64\n",
      " 28  WorkLifeBalance          4388 non-null   float64\n",
      "dtypes: float64(5), int64(16), object(8)\n",
      "memory usage: 999.3+ KB\n"
     ]
    }
   ],
   "source": [
    "data.info()"
   ]
  },
  {
   "cell_type": "markdown",
   "metadata": {},
   "source": [
    "```Attrition``` is a dichotomous (\"Yes/No\") field that indicates if the employee left the organization. This variable will serve as our response variable. The other columns listed are potential predictor variables. We should do some exploratory data analysis to see which variables have the most potential for modeling. "
   ]
  },
  {
   "cell_type": "code",
   "execution_count": 5,
   "metadata": {},
   "outputs": [
    {
     "data": {
      "text/html": [
       "<div>\n",
       "<style scoped>\n",
       "    .dataframe tbody tr th:only-of-type {\n",
       "        vertical-align: middle;\n",
       "    }\n",
       "\n",
       "    .dataframe tbody tr th {\n",
       "        vertical-align: top;\n",
       "    }\n",
       "\n",
       "    .dataframe thead th {\n",
       "        text-align: right;\n",
       "    }\n",
       "</style>\n",
       "<table border=\"1\" class=\"dataframe\">\n",
       "  <thead>\n",
       "    <tr style=\"text-align: right;\">\n",
       "      <th></th>\n",
       "      <th>Attrition</th>\n",
       "      <th>Age</th>\n",
       "      <th>BusinessTravel</th>\n",
       "      <th>Department</th>\n",
       "      <th>DistanceFromHome</th>\n",
       "      <th>Education</th>\n",
       "      <th>EducationField</th>\n",
       "      <th>EmployeeCount</th>\n",
       "      <th>EmployeeID</th>\n",
       "      <th>Gender</th>\n",
       "      <th>JobLevel</th>\n",
       "      <th>JobRole</th>\n",
       "      <th>MaritalStatus</th>\n",
       "      <th>MonthlyIncome</th>\n",
       "      <th>NumCompaniesWorked</th>\n",
       "      <th>Over18</th>\n",
       "      <th>PercentSalaryHike</th>\n",
       "      <th>StandardHours</th>\n",
       "      <th>StockOptionLevel</th>\n",
       "      <th>TotalWorkingYears</th>\n",
       "      <th>TrainingTimesLastYear</th>\n",
       "      <th>YearsAtCompany</th>\n",
       "      <th>YearsSinceLastPromotion</th>\n",
       "      <th>YearsWithCurrManager</th>\n",
       "      <th>PerformanceRating</th>\n",
       "      <th>JobInvolvement</th>\n",
       "      <th>EnvironmentSatisfaction</th>\n",
       "      <th>JobSatisfaction</th>\n",
       "      <th>WorkLifeBalance</th>\n",
       "    </tr>\n",
       "  </thead>\n",
       "  <tbody>\n",
       "    <tr>\n",
       "      <th>0</th>\n",
       "      <td>No</td>\n",
       "      <td>51</td>\n",
       "      <td>Travel_Rarely</td>\n",
       "      <td>Sales</td>\n",
       "      <td>5</td>\n",
       "      <td>2</td>\n",
       "      <td>Life_Sciences</td>\n",
       "      <td>1</td>\n",
       "      <td>1</td>\n",
       "      <td>Female</td>\n",
       "      <td>1</td>\n",
       "      <td>Healthcare_Representative</td>\n",
       "      <td>Married</td>\n",
       "      <td>131160</td>\n",
       "      <td>1.0</td>\n",
       "      <td>Y</td>\n",
       "      <td>11</td>\n",
       "      <td>8</td>\n",
       "      <td>0</td>\n",
       "      <td>1.0</td>\n",
       "      <td>6</td>\n",
       "      <td>1</td>\n",
       "      <td>0</td>\n",
       "      <td>0</td>\n",
       "      <td>1</td>\n",
       "      <td>3</td>\n",
       "      <td>3.0</td>\n",
       "      <td>4.0</td>\n",
       "      <td>3.0</td>\n",
       "    </tr>\n",
       "    <tr>\n",
       "      <th>1</th>\n",
       "      <td>No</td>\n",
       "      <td>32</td>\n",
       "      <td>Travel_Frequently</td>\n",
       "      <td>Research_Development</td>\n",
       "      <td>14</td>\n",
       "      <td>4</td>\n",
       "      <td>Other</td>\n",
       "      <td>1</td>\n",
       "      <td>3</td>\n",
       "      <td>Male</td>\n",
       "      <td>4</td>\n",
       "      <td>Sales_Executive</td>\n",
       "      <td>Married</td>\n",
       "      <td>193280</td>\n",
       "      <td>1.0</td>\n",
       "      <td>Y</td>\n",
       "      <td>15</td>\n",
       "      <td>8</td>\n",
       "      <td>3</td>\n",
       "      <td>5.0</td>\n",
       "      <td>2</td>\n",
       "      <td>5</td>\n",
       "      <td>0</td>\n",
       "      <td>3</td>\n",
       "      <td>3</td>\n",
       "      <td>2</td>\n",
       "      <td>3.0</td>\n",
       "      <td>2.0</td>\n",
       "      <td>2.0</td>\n",
       "    </tr>\n",
       "    <tr>\n",
       "      <th>2</th>\n",
       "      <td>No</td>\n",
       "      <td>38</td>\n",
       "      <td>Non-Travel</td>\n",
       "      <td>Research_Development</td>\n",
       "      <td>2</td>\n",
       "      <td>5</td>\n",
       "      <td>Life_Sciences</td>\n",
       "      <td>1</td>\n",
       "      <td>4</td>\n",
       "      <td>Male</td>\n",
       "      <td>3</td>\n",
       "      <td>Human_Resources</td>\n",
       "      <td>Married</td>\n",
       "      <td>83210</td>\n",
       "      <td>3.0</td>\n",
       "      <td>Y</td>\n",
       "      <td>11</td>\n",
       "      <td>8</td>\n",
       "      <td>3</td>\n",
       "      <td>13.0</td>\n",
       "      <td>5</td>\n",
       "      <td>8</td>\n",
       "      <td>7</td>\n",
       "      <td>5</td>\n",
       "      <td>3</td>\n",
       "      <td>4</td>\n",
       "      <td>2.0</td>\n",
       "      <td>2.0</td>\n",
       "      <td>4.0</td>\n",
       "    </tr>\n",
       "    <tr>\n",
       "      <th>3</th>\n",
       "      <td>No</td>\n",
       "      <td>32</td>\n",
       "      <td>Travel_Rarely</td>\n",
       "      <td>Research_Development</td>\n",
       "      <td>8</td>\n",
       "      <td>1</td>\n",
       "      <td>Medical</td>\n",
       "      <td>1</td>\n",
       "      <td>5</td>\n",
       "      <td>Male</td>\n",
       "      <td>1</td>\n",
       "      <td>Sales_Executive</td>\n",
       "      <td>Single</td>\n",
       "      <td>23420</td>\n",
       "      <td>4.0</td>\n",
       "      <td>Y</td>\n",
       "      <td>12</td>\n",
       "      <td>8</td>\n",
       "      <td>2</td>\n",
       "      <td>9.0</td>\n",
       "      <td>2</td>\n",
       "      <td>6</td>\n",
       "      <td>0</td>\n",
       "      <td>4</td>\n",
       "      <td>1</td>\n",
       "      <td>3</td>\n",
       "      <td>4.0</td>\n",
       "      <td>4.0</td>\n",
       "      <td>3.0</td>\n",
       "    </tr>\n",
       "    <tr>\n",
       "      <th>4</th>\n",
       "      <td>No</td>\n",
       "      <td>46</td>\n",
       "      <td>Travel_Rarely</td>\n",
       "      <td>Research_Development</td>\n",
       "      <td>6</td>\n",
       "      <td>3</td>\n",
       "      <td>Life_Sciences</td>\n",
       "      <td>1</td>\n",
       "      <td>6</td>\n",
       "      <td>Female</td>\n",
       "      <td>4</td>\n",
       "      <td>Research_Director</td>\n",
       "      <td>Married</td>\n",
       "      <td>40710</td>\n",
       "      <td>3.0</td>\n",
       "      <td>Y</td>\n",
       "      <td>13</td>\n",
       "      <td>8</td>\n",
       "      <td>0</td>\n",
       "      <td>28.0</td>\n",
       "      <td>5</td>\n",
       "      <td>7</td>\n",
       "      <td>7</td>\n",
       "      <td>7</td>\n",
       "      <td>3</td>\n",
       "      <td>3</td>\n",
       "      <td>4.0</td>\n",
       "      <td>3.0</td>\n",
       "      <td>2.0</td>\n",
       "    </tr>\n",
       "  </tbody>\n",
       "</table>\n",
       "</div>"
      ],
      "text/plain": [
       "  Attrition  Age     BusinessTravel            Department  DistanceFromHome  \\\n",
       "0        No   51      Travel_Rarely                 Sales                 5   \n",
       "1        No   32  Travel_Frequently  Research_Development                14   \n",
       "2        No   38         Non-Travel  Research_Development                 2   \n",
       "3        No   32      Travel_Rarely  Research_Development                 8   \n",
       "4        No   46      Travel_Rarely  Research_Development                 6   \n",
       "\n",
       "   Education EducationField  EmployeeCount  EmployeeID  Gender  JobLevel  \\\n",
       "0          2  Life_Sciences              1           1  Female         1   \n",
       "1          4          Other              1           3    Male         4   \n",
       "2          5  Life_Sciences              1           4    Male         3   \n",
       "3          1        Medical              1           5    Male         1   \n",
       "4          3  Life_Sciences              1           6  Female         4   \n",
       "\n",
       "                     JobRole MaritalStatus  MonthlyIncome  NumCompaniesWorked  \\\n",
       "0  Healthcare_Representative       Married         131160                 1.0   \n",
       "1            Sales_Executive       Married         193280                 1.0   \n",
       "2            Human_Resources       Married          83210                 3.0   \n",
       "3            Sales_Executive        Single          23420                 4.0   \n",
       "4          Research_Director       Married          40710                 3.0   \n",
       "\n",
       "  Over18  PercentSalaryHike  StandardHours  StockOptionLevel  \\\n",
       "0      Y                 11              8                 0   \n",
       "1      Y                 15              8                 3   \n",
       "2      Y                 11              8                 3   \n",
       "3      Y                 12              8                 2   \n",
       "4      Y                 13              8                 0   \n",
       "\n",
       "   TotalWorkingYears  TrainingTimesLastYear  YearsAtCompany  \\\n",
       "0                1.0                      6               1   \n",
       "1                5.0                      2               5   \n",
       "2               13.0                      5               8   \n",
       "3                9.0                      2               6   \n",
       "4               28.0                      5               7   \n",
       "\n",
       "   YearsSinceLastPromotion  YearsWithCurrManager  PerformanceRating  \\\n",
       "0                        0                     0                  1   \n",
       "1                        0                     3                  3   \n",
       "2                        7                     5                  3   \n",
       "3                        0                     4                  1   \n",
       "4                        7                     7                  3   \n",
       "\n",
       "   JobInvolvement  EnvironmentSatisfaction  JobSatisfaction  WorkLifeBalance  \n",
       "0               3                      3.0              4.0              3.0  \n",
       "1               2                      3.0              2.0              2.0  \n",
       "2               4                      2.0              2.0              4.0  \n",
       "3               3                      4.0              4.0              3.0  \n",
       "4               3                      4.0              3.0              2.0  "
      ]
     },
     "execution_count": 5,
     "metadata": {},
     "output_type": "execute_result"
    }
   ],
   "source": [
    "pd.set_option(\"display.max_columns\", None)\n",
    "data.head()"
   ]
  },
  {
   "cell_type": "code",
   "execution_count": 6,
   "metadata": {},
   "outputs": [
    {
     "data": {
      "text/plain": [
       "(4410, 29)"
      ]
     },
     "execution_count": 6,
     "metadata": {},
     "output_type": "execute_result"
    }
   ],
   "source": [
    "data.shape"
   ]
  },
  {
   "cell_type": "code",
   "execution_count": 7,
   "metadata": {},
   "outputs": [
    {
     "data": {
      "text/html": [
       "<div>\n",
       "<style scoped>\n",
       "    .dataframe tbody tr th:only-of-type {\n",
       "        vertical-align: middle;\n",
       "    }\n",
       "\n",
       "    .dataframe tbody tr th {\n",
       "        vertical-align: top;\n",
       "    }\n",
       "\n",
       "    .dataframe thead th {\n",
       "        text-align: right;\n",
       "    }\n",
       "</style>\n",
       "<table border=\"1\" class=\"dataframe\">\n",
       "  <thead>\n",
       "    <tr style=\"text-align: right;\">\n",
       "      <th></th>\n",
       "      <th>Age</th>\n",
       "      <th>DistanceFromHome</th>\n",
       "      <th>Education</th>\n",
       "      <th>EmployeeCount</th>\n",
       "      <th>EmployeeID</th>\n",
       "      <th>JobLevel</th>\n",
       "      <th>MonthlyIncome</th>\n",
       "      <th>NumCompaniesWorked</th>\n",
       "      <th>PercentSalaryHike</th>\n",
       "      <th>StandardHours</th>\n",
       "      <th>StockOptionLevel</th>\n",
       "      <th>TotalWorkingYears</th>\n",
       "      <th>TrainingTimesLastYear</th>\n",
       "      <th>YearsAtCompany</th>\n",
       "      <th>YearsSinceLastPromotion</th>\n",
       "      <th>YearsWithCurrManager</th>\n",
       "      <th>PerformanceRating</th>\n",
       "      <th>JobInvolvement</th>\n",
       "      <th>EnvironmentSatisfaction</th>\n",
       "      <th>JobSatisfaction</th>\n",
       "      <th>WorkLifeBalance</th>\n",
       "    </tr>\n",
       "  </thead>\n",
       "  <tbody>\n",
       "    <tr>\n",
       "      <th>count</th>\n",
       "      <td>4410.0</td>\n",
       "      <td>4410.0</td>\n",
       "      <td>4410.0</td>\n",
       "      <td>4410.0</td>\n",
       "      <td>4410.0</td>\n",
       "      <td>4410.0</td>\n",
       "      <td>4410.0</td>\n",
       "      <td>4391.0</td>\n",
       "      <td>4410.0</td>\n",
       "      <td>4410.0</td>\n",
       "      <td>4410.0</td>\n",
       "      <td>4401.0</td>\n",
       "      <td>4410.0</td>\n",
       "      <td>4410.0</td>\n",
       "      <td>4410.0</td>\n",
       "      <td>4410.0</td>\n",
       "      <td>4410.0</td>\n",
       "      <td>4410.0</td>\n",
       "      <td>4385.0</td>\n",
       "      <td>4390.0</td>\n",
       "      <td>4388.0</td>\n",
       "    </tr>\n",
       "    <tr>\n",
       "      <th>mean</th>\n",
       "      <td>36.9</td>\n",
       "      <td>8.0</td>\n",
       "      <td>2.9</td>\n",
       "      <td>1.0</td>\n",
       "      <td>2205.5</td>\n",
       "      <td>2.1</td>\n",
       "      <td>65029.3</td>\n",
       "      <td>2.7</td>\n",
       "      <td>14.4</td>\n",
       "      <td>8.0</td>\n",
       "      <td>0.8</td>\n",
       "      <td>11.3</td>\n",
       "      <td>2.8</td>\n",
       "      <td>7.0</td>\n",
       "      <td>2.2</td>\n",
       "      <td>4.1</td>\n",
       "      <td>3.0</td>\n",
       "      <td>3.0</td>\n",
       "      <td>2.9</td>\n",
       "      <td>3.1</td>\n",
       "      <td>3.0</td>\n",
       "    </tr>\n",
       "    <tr>\n",
       "      <th>std</th>\n",
       "      <td>9.1</td>\n",
       "      <td>7.1</td>\n",
       "      <td>1.0</td>\n",
       "      <td>0.0</td>\n",
       "      <td>1273.2</td>\n",
       "      <td>1.1</td>\n",
       "      <td>47068.9</td>\n",
       "      <td>2.5</td>\n",
       "      <td>4.2</td>\n",
       "      <td>0.0</td>\n",
       "      <td>0.9</td>\n",
       "      <td>7.8</td>\n",
       "      <td>1.3</td>\n",
       "      <td>6.1</td>\n",
       "      <td>3.2</td>\n",
       "      <td>3.6</td>\n",
       "      <td>0.6</td>\n",
       "      <td>0.9</td>\n",
       "      <td>1.1</td>\n",
       "      <td>0.9</td>\n",
       "      <td>0.9</td>\n",
       "    </tr>\n",
       "    <tr>\n",
       "      <th>min</th>\n",
       "      <td>18.0</td>\n",
       "      <td>1.0</td>\n",
       "      <td>1.0</td>\n",
       "      <td>1.0</td>\n",
       "      <td>1.0</td>\n",
       "      <td>1.0</td>\n",
       "      <td>10090.0</td>\n",
       "      <td>0.0</td>\n",
       "      <td>1.0</td>\n",
       "      <td>8.0</td>\n",
       "      <td>0.0</td>\n",
       "      <td>0.0</td>\n",
       "      <td>0.0</td>\n",
       "      <td>0.0</td>\n",
       "      <td>0.0</td>\n",
       "      <td>0.0</td>\n",
       "      <td>1.0</td>\n",
       "      <td>1.0</td>\n",
       "      <td>1.0</td>\n",
       "      <td>1.0</td>\n",
       "      <td>1.0</td>\n",
       "    </tr>\n",
       "    <tr>\n",
       "      <th>25%</th>\n",
       "      <td>30.0</td>\n",
       "      <td>2.0</td>\n",
       "      <td>2.0</td>\n",
       "      <td>1.0</td>\n",
       "      <td>1103.2</td>\n",
       "      <td>1.0</td>\n",
       "      <td>29110.0</td>\n",
       "      <td>1.0</td>\n",
       "      <td>12.0</td>\n",
       "      <td>8.0</td>\n",
       "      <td>0.0</td>\n",
       "      <td>6.0</td>\n",
       "      <td>2.0</td>\n",
       "      <td>3.0</td>\n",
       "      <td>0.0</td>\n",
       "      <td>2.0</td>\n",
       "      <td>3.0</td>\n",
       "      <td>2.0</td>\n",
       "      <td>2.0</td>\n",
       "      <td>2.0</td>\n",
       "      <td>2.0</td>\n",
       "    </tr>\n",
       "    <tr>\n",
       "      <th>50%</th>\n",
       "      <td>36.0</td>\n",
       "      <td>6.0</td>\n",
       "      <td>3.0</td>\n",
       "      <td>1.0</td>\n",
       "      <td>2205.5</td>\n",
       "      <td>2.0</td>\n",
       "      <td>49190.0</td>\n",
       "      <td>2.0</td>\n",
       "      <td>14.0</td>\n",
       "      <td>8.0</td>\n",
       "      <td>1.0</td>\n",
       "      <td>10.0</td>\n",
       "      <td>3.0</td>\n",
       "      <td>5.0</td>\n",
       "      <td>1.0</td>\n",
       "      <td>3.0</td>\n",
       "      <td>3.0</td>\n",
       "      <td>3.0</td>\n",
       "      <td>3.0</td>\n",
       "      <td>3.0</td>\n",
       "      <td>3.0</td>\n",
       "    </tr>\n",
       "    <tr>\n",
       "      <th>75%</th>\n",
       "      <td>43.0</td>\n",
       "      <td>12.0</td>\n",
       "      <td>4.0</td>\n",
       "      <td>1.0</td>\n",
       "      <td>3307.8</td>\n",
       "      <td>3.0</td>\n",
       "      <td>83800.0</td>\n",
       "      <td>4.0</td>\n",
       "      <td>17.0</td>\n",
       "      <td>8.0</td>\n",
       "      <td>1.0</td>\n",
       "      <td>15.0</td>\n",
       "      <td>3.0</td>\n",
       "      <td>9.0</td>\n",
       "      <td>3.0</td>\n",
       "      <td>7.0</td>\n",
       "      <td>3.0</td>\n",
       "      <td>4.0</td>\n",
       "      <td>4.0</td>\n",
       "      <td>4.0</td>\n",
       "      <td>4.0</td>\n",
       "    </tr>\n",
       "    <tr>\n",
       "      <th>max</th>\n",
       "      <td>60.0</td>\n",
       "      <td>35.0</td>\n",
       "      <td>5.0</td>\n",
       "      <td>1.0</td>\n",
       "      <td>4410.0</td>\n",
       "      <td>5.0</td>\n",
       "      <td>199990.0</td>\n",
       "      <td>9.0</td>\n",
       "      <td>25.0</td>\n",
       "      <td>8.0</td>\n",
       "      <td>3.0</td>\n",
       "      <td>40.0</td>\n",
       "      <td>6.0</td>\n",
       "      <td>40.0</td>\n",
       "      <td>15.0</td>\n",
       "      <td>17.0</td>\n",
       "      <td>4.0</td>\n",
       "      <td>4.0</td>\n",
       "      <td>4.0</td>\n",
       "      <td>4.0</td>\n",
       "      <td>4.0</td>\n",
       "    </tr>\n",
       "  </tbody>\n",
       "</table>\n",
       "</div>"
      ],
      "text/plain": [
       "          Age  DistanceFromHome  Education  EmployeeCount  EmployeeID  \\\n",
       "count  4410.0            4410.0     4410.0         4410.0      4410.0   \n",
       "mean     36.9               8.0        2.9            1.0      2205.5   \n",
       "std       9.1               7.1        1.0            0.0      1273.2   \n",
       "min      18.0               1.0        1.0            1.0         1.0   \n",
       "25%      30.0               2.0        2.0            1.0      1103.2   \n",
       "50%      36.0               6.0        3.0            1.0      2205.5   \n",
       "75%      43.0              12.0        4.0            1.0      3307.8   \n",
       "max      60.0              35.0        5.0            1.0      4410.0   \n",
       "\n",
       "       JobLevel  MonthlyIncome  NumCompaniesWorked  PercentSalaryHike  \\\n",
       "count    4410.0         4410.0              4391.0             4410.0   \n",
       "mean        2.1        65029.3                 2.7               14.4   \n",
       "std         1.1        47068.9                 2.5                4.2   \n",
       "min         1.0        10090.0                 0.0                1.0   \n",
       "25%         1.0        29110.0                 1.0               12.0   \n",
       "50%         2.0        49190.0                 2.0               14.0   \n",
       "75%         3.0        83800.0                 4.0               17.0   \n",
       "max         5.0       199990.0                 9.0               25.0   \n",
       "\n",
       "       StandardHours  StockOptionLevel  TotalWorkingYears  \\\n",
       "count         4410.0            4410.0             4401.0   \n",
       "mean             8.0               0.8               11.3   \n",
       "std              0.0               0.9                7.8   \n",
       "min              8.0               0.0                0.0   \n",
       "25%              8.0               0.0                6.0   \n",
       "50%              8.0               1.0               10.0   \n",
       "75%              8.0               1.0               15.0   \n",
       "max              8.0               3.0               40.0   \n",
       "\n",
       "       TrainingTimesLastYear  YearsAtCompany  YearsSinceLastPromotion  \\\n",
       "count                 4410.0          4410.0                   4410.0   \n",
       "mean                     2.8             7.0                      2.2   \n",
       "std                      1.3             6.1                      3.2   \n",
       "min                      0.0             0.0                      0.0   \n",
       "25%                      2.0             3.0                      0.0   \n",
       "50%                      3.0             5.0                      1.0   \n",
       "75%                      3.0             9.0                      3.0   \n",
       "max                      6.0            40.0                     15.0   \n",
       "\n",
       "       YearsWithCurrManager  PerformanceRating  JobInvolvement  \\\n",
       "count                4410.0             4410.0          4410.0   \n",
       "mean                    4.1                3.0             3.0   \n",
       "std                     3.6                0.6             0.9   \n",
       "min                     0.0                1.0             1.0   \n",
       "25%                     2.0                3.0             2.0   \n",
       "50%                     3.0                3.0             3.0   \n",
       "75%                     7.0                3.0             4.0   \n",
       "max                    17.0                4.0             4.0   \n",
       "\n",
       "       EnvironmentSatisfaction  JobSatisfaction  WorkLifeBalance  \n",
       "count                   4385.0           4390.0           4388.0  \n",
       "mean                       2.9              3.1              3.0  \n",
       "std                        1.1              0.9              0.9  \n",
       "min                        1.0              1.0              1.0  \n",
       "25%                        2.0              2.0              2.0  \n",
       "50%                        3.0              3.0              3.0  \n",
       "75%                        4.0              4.0              4.0  \n",
       "max                        4.0              4.0              4.0  "
      ]
     },
     "execution_count": 7,
     "metadata": {},
     "output_type": "execute_result"
    }
   ],
   "source": [
    "data.describe().round(1)"
   ]
  },
  {
   "cell_type": "markdown",
   "metadata": {},
   "source": [
    "By looking at the descriptive, we can quickly see the following statistic is reasonable:\n",
    "- max, min\n",
    "- mean\n",
    "\n",
    "For instant, age is between 18 and 60 which make sense to be employee data.\n",
    "\n",
    "Also, we can focus on columns that lack variance necessary for value in prediction. Since ```EmployeeCount``` and ```StandardHours``` both have no variation, this makes them poor candidates for prediction."
   ]
  },
  {
   "cell_type": "markdown",
   "metadata": {},
   "source": [
    "### 1.1 Clean data"
   ]
  },
  {
   "cell_type": "code",
   "execution_count": 8,
   "metadata": {},
   "outputs": [
    {
     "data": {
      "text/plain": [
       "Attrition                   0\n",
       "Age                         0\n",
       "BusinessTravel              0\n",
       "Department                  0\n",
       "DistanceFromHome            0\n",
       "Education                   0\n",
       "EducationField              0\n",
       "EmployeeCount               0\n",
       "EmployeeID                  0\n",
       "Gender                      0\n",
       "JobLevel                    0\n",
       "JobRole                     0\n",
       "MaritalStatus               0\n",
       "MonthlyIncome               0\n",
       "NumCompaniesWorked         19\n",
       "Over18                      0\n",
       "PercentSalaryHike           0\n",
       "StandardHours               0\n",
       "StockOptionLevel            0\n",
       "TotalWorkingYears           9\n",
       "TrainingTimesLastYear       0\n",
       "YearsAtCompany              0\n",
       "YearsSinceLastPromotion     0\n",
       "YearsWithCurrManager        0\n",
       "PerformanceRating           0\n",
       "JobInvolvement              0\n",
       "EnvironmentSatisfaction    25\n",
       "JobSatisfaction            20\n",
       "WorkLifeBalance            22\n",
       "dtype: int64"
      ]
     },
     "execution_count": 8,
     "metadata": {},
     "output_type": "execute_result"
    }
   ],
   "source": [
    "data.isnull().sum()"
   ]
  },
  {
   "cell_type": "markdown",
   "metadata": {},
   "source": [
    "My approach of handling missing data is using their mean."
   ]
  },
  {
   "cell_type": "code",
   "execution_count": 9,
   "metadata": {},
   "outputs": [],
   "source": [
    "data=data.fillna(data.mean(numeric_only=True))"
   ]
  },
  {
   "cell_type": "code",
   "execution_count": 10,
   "metadata": {},
   "outputs": [
    {
     "data": {
      "text/plain": [
       "Attrition                  False\n",
       "Age                        False\n",
       "BusinessTravel             False\n",
       "Department                 False\n",
       "DistanceFromHome           False\n",
       "Education                  False\n",
       "EducationField             False\n",
       "EmployeeCount              False\n",
       "EmployeeID                 False\n",
       "Gender                     False\n",
       "JobLevel                   False\n",
       "JobRole                    False\n",
       "MaritalStatus              False\n",
       "MonthlyIncome              False\n",
       "NumCompaniesWorked         False\n",
       "Over18                     False\n",
       "PercentSalaryHike          False\n",
       "StandardHours              False\n",
       "StockOptionLevel           False\n",
       "TotalWorkingYears          False\n",
       "TrainingTimesLastYear      False\n",
       "YearsAtCompany             False\n",
       "YearsSinceLastPromotion    False\n",
       "YearsWithCurrManager       False\n",
       "PerformanceRating          False\n",
       "JobInvolvement             False\n",
       "EnvironmentSatisfaction    False\n",
       "JobSatisfaction            False\n",
       "WorkLifeBalance            False\n",
       "dtype: bool"
      ]
     },
     "execution_count": 10,
     "metadata": {},
     "output_type": "execute_result"
    }
   ],
   "source": [
    "data.isnull().any()"
   ]
  },
  {
   "cell_type": "markdown",
   "metadata": {},
   "source": [
    "## 2. Exploratory Data Analysis (EDA)"
   ]
  },
  {
   "cell_type": "markdown",
   "metadata": {},
   "source": [
    "We will first drop the columns that is not helpful for modeling employee turnover. ```EmployeeCount```, ```StandardHours```, and ```Over18``` should be dropped as they have no variation. ```EmployeeID``` is only used to identify the employee and has no other value."
   ]
  },
  {
   "cell_type": "code",
   "execution_count": 11,
   "metadata": {},
   "outputs": [],
   "source": [
    "data.drop(['EmployeeCount','EmployeeID','StandardHours','Over18'],axis=1,inplace=True)"
   ]
  },
  {
   "cell_type": "code",
   "execution_count": 12,
   "metadata": {},
   "outputs": [
    {
     "data": {
      "image/png": "[encoded data removed]",
      "text/plain": [
       "<Figure size 640x480 with 1 Axes>"
      ]
     },
     "metadata": {},
     "output_type": "display_data"
    }
   ],
   "source": [
    "sns.countplot(x = \"Attrition\",data=data)\n",
    "plt.title('Balance of Attrition')\n",
    "plt.show()"
   ]
  },
  {
   "cell_type": "markdown",
   "metadata": {},
   "source": [
    "We see that our response variable (attrition) has more non-attrition of an employee than attrition of employees. Specifically, only 16% of our data set consists of attrition records. This imbalance can hurt the overall model performance, so we will later use SMOTE to fix this issue in the transformation section."
   ]
  },
  {
   "cell_type": "code",
   "execution_count": 13,
   "metadata": {},
   "outputs": [
    {
     "data": {
      "image/png": "[encoded data removed]",
      "text/plain": [
       "<Figure size 640x480 with 1 Axes>"
      ]
     },
     "metadata": {},
     "output_type": "display_data"
    }
   ],
   "source": [
    "sns.countplot(x = \"Attrition\",data=data,hue=\"Gender\", palette=\"Reds\")\n",
    "plt.title('Distribution by Gender')\n",
    "plt.show()"
   ]
  },
  {
   "cell_type": "code",
   "execution_count": 14,
   "metadata": {},
   "outputs": [],
   "source": [
    "#Bin the age variable into buckets for easier EDA\n",
    "data['Age_Bin']=pd.cut(x = data['Age'],\n",
    "                        bins = [0,30,40,50,60], \n",
    "                        labels = ['18-30', '30-40', '40-50','50-60'])"
   ]
  },
  {
   "cell_type": "code",
   "execution_count": 15,
   "metadata": {},
   "outputs": [
    {
     "data": {
      "image/png": "[encoded data removed]",
      "text/plain": [
       "<Figure size 640x480 with 1 Axes>"
      ]
     },
     "metadata": {},
     "output_type": "display_data"
    }
   ],
   "source": [
    "sns.countplot(x = \"Attrition\",data=data,hue=\"Age_Bin\", palette=\"Reds\")\n",
    "plt.legend(title='Age')\n",
    "plt.title('Distribution by Age')\n",
    "plt.show()"
   ]
  },
  {
   "cell_type": "code",
   "execution_count": 16,
   "metadata": {},
   "outputs": [],
   "source": [
    "data.drop('Age_Bin', axis=1, inplace=True)"
   ]
  },
  {
   "cell_type": "code",
   "execution_count": 17,
   "metadata": {},
   "outputs": [
    {
     "data": {
      "image/png": "[encoded data removed]",
      "text/plain": [
       "<Figure size 640x480 with 1 Axes>"
      ]
     },
     "metadata": {},
     "output_type": "display_data"
    }
   ],
   "source": [
    "sns.countplot(x = \"Attrition\",data=data,hue=\"JobLevel\", palette=\"Reds\")\n",
    "plt.title('Distribution by Job Level')\n",
    "plt.show()"
   ]
  },
  {
   "cell_type": "markdown",
   "metadata": {},
   "source": [
    "Let's transform our dependent variable (attrition) from 'yes/no' to '1/0' for better handling."
   ]
  },
  {
   "cell_type": "code",
   "execution_count": 18,
   "metadata": {},
   "outputs": [],
   "source": [
    "label_encoder_y=LabelEncoder()\n",
    "data['Attrition']=label_encoder_y.fit_transform(data['Attrition'])"
   ]
  },
  {
   "cell_type": "code",
   "execution_count": 19,
   "metadata": {},
   "outputs": [
    {
     "data": {
      "image/png": "[encoded data removed]",
      "text/plain": [
       "<Figure size 640x480 with 2 Axes>"
      ]
     },
     "metadata": {},
     "output_type": "display_data"
    }
   ],
   "source": [
    "import matplotlib.colors as mcolors\n",
    "pivot = data.pivot_table(values='Attrition', index='JobRole', columns='JobLevel', aggfunc=sum)\n",
    "sns.heatmap(pivot, cmap=sns.color_palette(\"Reds\", as_cmap=True))\n",
    "plt.title('Distribution of Attrition')\n",
    "plt.show()"
   ]
  },
  {
   "cell_type": "markdown",
   "metadata": {},
   "source": [
    "The bar charts and heatmap visualization effectively highlights that attrition is not uniformly distributed across the organization. Specifically, it underscores a significant concentration of turnover among Research Scientists and Sales Executives, particularly at the entry-level positions and those who are young. This pattern suggests that our early-career employees in these roles are the most vulnerable to attrition."
   ]
  },
  {
   "cell_type": "markdown",
   "metadata": {},
   "source": [
    "## 3. Transformation"
   ]
  },
  {
   "cell_type": "markdown",
   "metadata": {},
   "source": [
    "This part will transform data to better fit the machine learning model by:\n",
    "1. dummy encoding\n",
    "2. standardization\n",
    "3. dataset splitting\n",
    "4. SMOTE"
   ]
  },
  {
   "cell_type": "markdown",
   "metadata": {},
   "source": [
    "Since some of our data is category, we will first use dummy encoding to transform these category column into numeric in order to pass to the machine learning model."
   ]
  },
  {
   "cell_type": "markdown",
   "metadata": {},
   "source": [
    "### 3.1 Dummy encoding"
   ]
  },
  {
   "cell_type": "code",
   "execution_count": 20,
   "metadata": {},
   "outputs": [],
   "source": [
    "columns_to_dummy = ['Gender', 'JobRole', 'BusinessTravel','Education','EducationField',\n",
    "                                    'JobLevel','MaritalStatus','Department','StockOptionLevel']\n",
    "df = pd.get_dummies(data, columns=columns_to_dummy, drop_first=True)"
   ]
  },
  {
   "cell_type": "markdown",
   "metadata": {},
   "source": [
    "For reference, let's view the data in the categorical predictors"
   ]
  },
  {
   "cell_type": "code",
   "execution_count": 21,
   "metadata": {},
   "outputs": [
    {
     "name": "stdout",
     "output_type": "stream",
     "text": [
      "['Travel_Rarely' 'Travel_Frequently' 'Non-Travel']\n",
      "['Life_Sciences' 'Other' 'Medical' 'Marketing' 'Technical_Degree' 'HR']\n",
      "['Female' 'Male']\n",
      "['Sales' 'Research_Development' 'Human_Resources']\n",
      "['Healthcare_Representative' 'Sales_Executive' 'Human_Resources'\n",
      " 'Research_Director' 'Laboratory_Technician' 'Manufacturing_Director'\n",
      " 'Sales_Representative' 'Manager' 'Research_Scientist']\n",
      "['Married' 'Single' 'Divorced']\n"
     ]
    }
   ],
   "source": [
    "print(data['BusinessTravel'].unique())\n",
    "print(data['EducationField'].unique())\n",
    "print(data['Gender'].unique())\n",
    "print(data['Department'].unique())\n",
    "print(data['JobRole'].unique())\n",
    "print(data['MaritalStatus'].unique())"
   ]
  },
  {
   "cell_type": "markdown",
   "metadata": {},
   "source": [
    "After dummy encoding, we can investigate the correlation between attrition rate and other variables."
   ]
  },
  {
   "cell_type": "markdown",
   "metadata": {},
   "source": [
    "### 3.1.1 variable correlation"
   ]
  },
  {
   "cell_type": "code",
   "execution_count": 22,
   "metadata": {},
   "outputs": [
    {
     "data": {
      "image/png": "[encoded data removed]",
      "text/plain": [
       "<Figure size 700x1200 with 1 Axes>"
      ]
     },
     "metadata": {},
     "output_type": "display_data"
    }
   ],
   "source": [
    "correlation_series = df.corr()['Attrition'].sort_values()\n",
    "correlation_series = correlation_series.drop('Attrition')\n",
    "plt.figure(figsize=(7, 12))\n",
    "correlation_series.plot(kind='barh', color='red')\n",
    "plt.title('Correlation with Attrition')\n",
    "plt.xlabel('Correlation')\n",
    "plt.show()"
   ]
  },
  {
   "cell_type": "markdown",
   "metadata": {},
   "source": [
    "This chart suggest that these are the factors that are highly correlated with attrition:\n",
    "- low performance rating\n",
    "- work life imbalance\n",
    "- low percent salary hike\n",
    "- low job involvement\n",
    "- low job satisfaction\n",
    "- low environment satisfaction\n",
    "\n",
    "These can be the potential variables used in the machine learning model."
   ]
  },
  {
   "cell_type": "markdown",
   "metadata": {},
   "source": [
    "### 3.2 Standardization"
   ]
  },
  {
   "cell_type": "markdown",
   "metadata": {},
   "source": [
    "We want to compare the magnitude of the coefficients in the machine learning model. If the underlying variables have different units of measurement and variances (e.g. age vs. monthly income), then the magnitude of the coefficients are not directly comparable. So we standardize the numeric columns, but exclude the binary column."
   ]
  },
  {
   "cell_type": "code",
   "execution_count": 23,
   "metadata": {},
   "outputs": [],
   "source": [
    "# standardization\n",
    "columns_to_standardize = [\n",
    "    'Age', 'DistanceFromHome', 'MonthlyIncome', 'NumCompaniesWorked', \n",
    "    'PercentSalaryHike', 'TotalWorkingYears', 'TrainingTimesLastYear', \n",
    "    'YearsAtCompany', 'YearsSinceLastPromotion', 'YearsWithCurrManager', \n",
    "    'PerformanceRating', 'JobInvolvement', 'EnvironmentSatisfaction', \n",
    "    'JobSatisfaction', 'WorkLifeBalance'\n",
    "]\n",
    "scaler = StandardScaler()\n",
    "df[columns_to_standardize] = scaler.fit_transform(df[columns_to_standardize])"
   ]
  },
  {
   "cell_type": "markdown",
   "metadata": {},
   "source": [
    "### 3.3 Dataset splitting"
   ]
  },
  {
   "cell_type": "markdown",
   "metadata": {},
   "source": [
    "Dataset is split into training [70%], validation [15%], and test set [15%] for machine learning."
   ]
  },
  {
   "cell_type": "code",
   "execution_count": 24,
   "metadata": {},
   "outputs": [],
   "source": [
    "def train_validate_test_split(df, train_percent=.7, validate_percent=.15, seed=None):\n",
    "    np.random.seed(seed)\n",
    "    perm = np.random.permutation(df.index)\n",
    "    m = len(df.index)\n",
    "    train_end = int(train_percent * m)\n",
    "    validate_end = int(validate_percent * m) + train_end\n",
    "    train = df.iloc[perm[:train_end]]\n",
    "    validate = df.iloc[perm[train_end:validate_end]]\n",
    "    test = df.iloc[perm[validate_end:]]\n",
    "    return train, validate, test"
   ]
  },
  {
   "cell_type": "code",
   "execution_count": 25,
   "metadata": {},
   "outputs": [],
   "source": [
    "train, validate, test = train_validate_test_split(df)"
   ]
  },
  {
   "cell_type": "markdown",
   "metadata": {},
   "source": [
    "### 3.4 SMOTE"
   ]
  },
  {
   "cell_type": "markdown",
   "metadata": {},
   "source": [
    "As said before, in order to fix the imbalance issue in our response variable (Attrition), we use SMOTE to balance it."
   ]
  },
  {
   "cell_type": "code",
   "execution_count": 26,
   "metadata": {},
   "outputs": [
    {
     "name": "stdout",
     "output_type": "stream",
     "text": [
      "Shape of X before SMOTE: (3087, 46)\n",
      "        Shape of X after SMOTE: (5174, 46)\n"
     ]
    }
   ],
   "source": [
    "y = train['Attrition']\n",
    "X = train.drop(['Attrition'], axis = 1)\n",
    "smote = SMOTE(random_state=42)\n",
    "X_sm, y_sm = smote.fit_resample(X, y)\n",
    "print(f'''Shape of X before SMOTE: {X.shape}\n",
    "        Shape of X after SMOTE: {X_sm.shape}''')"
   ]
  },
  {
   "cell_type": "code",
   "execution_count": 27,
   "metadata": {},
   "outputs": [
    {
     "data": {
      "text/plain": [
       "0.5"
      ]
     },
     "execution_count": 27,
     "metadata": {},
     "output_type": "execute_result"
    }
   ],
   "source": [
    "# check that response variable is now balanced\n",
    "y_sm.mean()"
   ]
  },
  {
   "cell_type": "code",
   "execution_count": 28,
   "metadata": {},
   "outputs": [
    {
     "data": {
      "text/plain": [
       "(5174, 47)"
      ]
     },
     "execution_count": 28,
     "metadata": {},
     "output_type": "execute_result"
    }
   ],
   "source": [
    "#Remerge the data\n",
    "train_smote = pd.concat([y_sm, X_sm], axis=1)\n",
    "train_smote.shape"
   ]
  },
  {
   "cell_type": "markdown",
   "metadata": {},
   "source": [
    "## 4. Modeling"
   ]
  },
  {
   "cell_type": "markdown",
   "metadata": {},
   "source": [
    "Since attrition is a binary variable, we will use logistic regression, which is suitable and simple to interpret."
   ]
  },
  {
   "cell_type": "markdown",
   "metadata": {},
   "source": [
    "We first split the independent variables and response variable from the train, validate, and test set."
   ]
  },
  {
   "cell_type": "code",
   "execution_count": 29,
   "metadata": {},
   "outputs": [],
   "source": [
    "ind_var = ['PerformanceRating', 'WorkLifeBalance', 'PercentSalaryHike', 'JobInvolvement', 'JobSatisfaction', 'EnvironmentSatisfaction']\n",
    "\n",
    "X_train = train_smote[ind_var]\n",
    "y_train = train_smote['Attrition']\n",
    "\n",
    "X_validate = validate[ind_var]\n",
    "y_validate = validate['Attrition']\n",
    "\n",
    "X_test = test[ind_var]\n",
    "y_test = test['Attrition']"
   ]
  },
  {
   "cell_type": "markdown",
   "metadata": {},
   "source": [
    "In our analysis, the trade-off between Type I and Type II errors is critical. Misclassifying an employee as staying (Type II error) is more detrimental than falsely predicting their departure (Type I error). Thus, minimizing Type II errors is our priority. We will focus on optimizing recall as our performance metrics, adjusting our model's hyperparameter on the validation set to maximize these measures."
   ]
  },
  {
   "cell_type": "code",
   "execution_count": 30,
   "metadata": {},
   "outputs": [],
   "source": [
    "def fit_model(penalty, C, class_weight, solver, max_iter, data='validate'):\n",
    "    if data == 'validate':\n",
    "        X = X_validate\n",
    "        y = y_validate\n",
    "    elif data == 'test':\n",
    "        X = X_test\n",
    "        y = y_test\n",
    "    else:\n",
    "        raise NameError('invalid data input')\n",
    "\n",
    "    # initialize hyperparameter\n",
    "    log_reg = LogisticRegression(penalty=penalty,\n",
    "                                C=C,\n",
    "                                class_weight=class_weight,\n",
    "                                solver=solver,\n",
    "                                max_iter=max_iter)\n",
    "\n",
    "    # fit model with training data\n",
    "    log_reg.fit(X_train, y_train)\n",
    "\n",
    "    # predict on the validation data\n",
    "    y_pred = log_reg.predict(X)\n",
    "\n",
    "    # calculate recall\n",
    "    recall = recall_score(y, y_pred)\n",
    "\n",
    "    return log_reg, recall"
   ]
  },
  {
   "cell_type": "code",
   "execution_count": 31,
   "metadata": {},
   "outputs": [
    {
     "name": "stdout",
     "output_type": "stream",
     "text": [
      "0.8275862068965517\n",
      "0.8275862068965517\n",
      "0.8390804597701149\n",
      "0.8505747126436781\n"
     ]
    }
   ],
   "source": [
    "print(fit_model(penalty='l2', C=0.1, class_weight=None, solver='lbfgs', max_iter=100)[1])\n",
    "print(fit_model(penalty='l2', C=0.001, class_weight=None, solver='lbfgs', max_iter=100)[1])\n",
    "print(fit_model(penalty='l1', C=0.001, class_weight=None, solver='liblinear', max_iter=100)[1])\n",
    "print(fit_model(penalty='l1', C=0.01, class_weight='balanced', solver='liblinear', max_iter=100)[1])"
   ]
  },
  {
   "cell_type": "markdown",
   "metadata": {},
   "source": [
    "From this tuning, we find that `penalty='l1', C=0.01, class_weight='balanced', solver='liblinear', max_iter=100` give the best recall. Let's pass this to test set to see its recall."
   ]
  },
  {
   "cell_type": "code",
   "execution_count": 32,
   "metadata": {},
   "outputs": [
    {
     "name": "stdout",
     "output_type": "stream",
     "text": [
      "0.9193548387096774\n"
     ]
    }
   ],
   "source": [
    "model, recall = fit_model(penalty='l1', C=0.01, class_weight='balanced', solver='liblinear', max_iter=100, data='test')\n",
    "print(recall)"
   ]
  },
  {
   "cell_type": "markdown",
   "metadata": {},
   "source": [
    "## 5. Evaluation"
   ]
  },
  {
   "cell_type": "markdown",
   "metadata": {},
   "source": [
    "### 5.1 Interpreting the Coefficients"
   ]
  },
  {
   "cell_type": "code",
   "execution_count": 33,
   "metadata": {},
   "outputs": [
    {
     "data": {
      "text/plain": [
       "{'PerformanceRating': -0.8476457731524698,\n",
       " 'WorkLifeBalance': -1.145233770851415,\n",
       " 'PercentSalaryHike': -0.5438586975848675,\n",
       " 'JobInvolvement': -0.6040496948926853,\n",
       " 'JobSatisfaction': -0.540834055558806,\n",
       " 'EnvironmentSatisfaction': -0.3171428130390066}"
      ]
     },
     "execution_count": 33,
     "metadata": {},
     "output_type": "execute_result"
    }
   ],
   "source": [
    "coef = dict(zip(ind_var, model.coef_[0]))\n",
    "coef"
   ]
  },
  {
   "cell_type": "markdown",
   "metadata": {},
   "source": [
    "To interpret coefficient of a logistic regression model, 1 unit change in the independent variable produce the coefficient change in the response variable (Attrition). Note that our independent variable is standardized. So, here it may not have the same intuition but we can use this coefficient to compare their strength of impact on attrition."
   ]
  },
  {
   "cell_type": "code",
   "execution_count": 34,
   "metadata": {},
   "outputs": [
    {
     "data": {
      "image/png": "[encoded data removed]",
      "text/plain": [
       "<Figure size 1000x300 with 1 Axes>"
      ]
     },
     "metadata": {},
     "output_type": "display_data"
    }
   ],
   "source": [
    "coef_df = pd.DataFrame(list(coef.items()), columns=['Variable', 'Odd Ratio'])\n",
    "\n",
    "plt.figure(figsize=(10, 3))\n",
    "sns.barplot(x='Odd Ratio', y='Variable', data=coef_df, \n",
    "            orient='h', \n",
    "            color='red',\n",
    "            order=coef_df.sort_values('Odd Ratio', ascending=True).Variable)\n",
    "\n",
    "plt.xlabel('Odd Ratio')\n",
    "plt.show()"
   ]
  },
  {
   "cell_type": "markdown",
   "metadata": {},
   "source": [
    "### 5.2 Visualizing model performance"
   ]
  },
  {
   "cell_type": "markdown",
   "metadata": {},
   "source": [
    "We can produce confusion matrices to visualize the TP, FP, TN, and FN."
   ]
  },
  {
   "cell_type": "code",
   "execution_count": 35,
   "metadata": {},
   "outputs": [
    {
     "name": "stdout",
     "output_type": "stream",
     "text": [
      "Confusion Matrix : \n",
      " [[496  42]\n",
      " [ 10 114]]\n",
      "Test accuracy =  0.9214501510574018\n"
     ]
    }
   ],
   "source": [
    "predict = model.predict(X_test)\n",
    "cm = confusion_matrix(y_test, predict)\n",
    "print (\"Confusion Matrix : \\n\", cm)\n",
    "print('Test accuracy = ', accuracy_score(y_test, predict))"
   ]
  },
  {
   "cell_type": "code",
   "execution_count": 36,
   "metadata": {},
   "outputs": [
    {
     "data": {
      "image/png": "[encoded data removed]",
      "text/plain": [
       "<Figure size 640x480 with 1 Axes>"
      ]
     },
     "metadata": {},
     "output_type": "display_data"
    }
   ],
   "source": [
    "disp = ConfusionMatrixDisplay(confusion_matrix=cm)\n",
    "disp.plot(cmap=plt.cm.Reds, colorbar=False)\n",
    "plt.grid(False)\n",
    "plt.show()"
   ]
  },
  {
   "cell_type": "markdown",
   "metadata": {},
   "source": [
    "We can use classification report to provide a view into precision, recall, and f1-score. It provides these values for the overall model and disaggreagted by response variable outcome (0,1)."
   ]
  },
  {
   "cell_type": "code",
   "execution_count": 37,
   "metadata": {},
   "outputs": [
    {
     "name": "stdout",
     "output_type": "stream",
     "text": [
      "              precision    recall  f1-score   support\n",
      "\n",
      "           0       0.98      0.92      0.95       538\n",
      "           1       0.73      0.92      0.81       124\n",
      "\n",
      "    accuracy                           0.92       662\n",
      "   macro avg       0.86      0.92      0.88       662\n",
      "weighted avg       0.93      0.92      0.92       662\n",
      "\n"
     ]
    }
   ],
   "source": [
    "print(classification_report(y_test, predict))"
   ]
  },
  {
   "cell_type": "markdown",
   "metadata": {},
   "source": [
    "The model is performing very well on the majority class with high precision,  recall and f1-score. Performance on the minority class is still good, especially the recall. The model is adept at capturing the positive cases for the minority class, which is the goal in our scenarios, as the cost of false negative is higher than false positive."
   ]
  },
  {
   "cell_type": "markdown",
   "metadata": {},
   "source": [
    "Visualizing Area Under the Curve (AUC) is particularly useful for evaluating classifiers on imbalanced datasets because it focuses on the rates (proportions) rather than absolute counts."
   ]
  },
  {
   "cell_type": "code",
   "execution_count": 38,
   "metadata": {},
   "outputs": [
    {
     "data": {
      "image/png": "[encoded data removed]",
      "text/plain": [
       "<Figure size 640x480 with 1 Axes>"
      ]
     },
     "metadata": {},
     "output_type": "display_data"
    }
   ],
   "source": [
    "# probability estimates of the positive class\n",
    "y_probs = model.predict_proba(X_test)[:, 1]\n",
    "\n",
    "# computes the ROC AUC score\n",
    "auc = roc_auc_score(y_test, y_probs)\n",
    "\n",
    "# compute true positive and false positive rate\n",
    "fpr, tpr, thresholds = roc_curve(y_test, y_probs)\n",
    "\n",
    "# Create ROC curve\n",
    "plt.plot(fpr, tpr, label='ROC curve (area = %.2f)' %auc)\n",
    "plt.plot([0, 1], [0, 1], linestyle='--', lw=2, color='r', label='Random guess')\n",
    "plt.title('ROC curve')\n",
    "plt.ylabel('True Positive Rate')\n",
    "plt.xlabel('False Positive Rate')\n",
    "plt.grid()\n",
    "plt.legend()\n",
    "plt.show()"
   ]
  },
  {
   "cell_type": "markdown",
   "metadata": {},
   "source": [
    "## 6.Application"
   ]
  },
  {
   "cell_type": "markdown",
   "metadata": {},
   "source": [
    "Recall that we have do some transformation our dataset, such as dummy encoding and standardization, before passing them to the model. Therefore, when we apply this model in real data, we need to transform the data with the same way and same scale before passing to the trained model for prediction."
   ]
  },
  {
   "cell_type": "code",
   "execution_count": 39,
   "metadata": {},
   "outputs": [],
   "source": [
    "def predict_real_data(real_data):\n",
    "    # dummy encoding\n",
    "    transformed_data = pd.get_dummies(real_data, columns=columns_to_dummy, drop_first=True)\n",
    "    # use the same scale to standardize real data\n",
    "    standardized_values = scaler.transform(transformed_data[columns_to_standardize])\n",
    "    standardized_data = pd.DataFrame(standardized_values, columns=columns_to_standardize, index=transformed_data.index)\n",
    "    standardized_data = standardized_data[ind_var]\n",
    "    # pass to model for prediction\n",
    "    prediction = model.predict(standardized_data)\n",
    "\n",
    "    return prediction"
   ]
  },
  {
   "cell_type": "code",
   "execution_count": 40,
   "metadata": {},
   "outputs": [
    {
     "data": {
      "text/html": [
       "<div>\n",
       "<style scoped>\n",
       "    .dataframe tbody tr th:only-of-type {\n",
       "        vertical-align: middle;\n",
       "    }\n",
       "\n",
       "    .dataframe tbody tr th {\n",
       "        vertical-align: top;\n",
       "    }\n",
       "\n",
       "    .dataframe thead th {\n",
       "        text-align: right;\n",
       "    }\n",
       "</style>\n",
       "<table border=\"1\" class=\"dataframe\">\n",
       "  <thead>\n",
       "    <tr style=\"text-align: right;\">\n",
       "      <th></th>\n",
       "      <th>Attrition</th>\n",
       "      <th>Age</th>\n",
       "      <th>BusinessTravel</th>\n",
       "      <th>Department</th>\n",
       "      <th>DistanceFromHome</th>\n",
       "      <th>Education</th>\n",
       "      <th>EducationField</th>\n",
       "      <th>Gender</th>\n",
       "      <th>JobLevel</th>\n",
       "      <th>JobRole</th>\n",
       "      <th>MaritalStatus</th>\n",
       "      <th>MonthlyIncome</th>\n",
       "      <th>NumCompaniesWorked</th>\n",
       "      <th>PercentSalaryHike</th>\n",
       "      <th>StockOptionLevel</th>\n",
       "      <th>TotalWorkingYears</th>\n",
       "      <th>TrainingTimesLastYear</th>\n",
       "      <th>YearsAtCompany</th>\n",
       "      <th>YearsSinceLastPromotion</th>\n",
       "      <th>YearsWithCurrManager</th>\n",
       "      <th>PerformanceRating</th>\n",
       "      <th>JobInvolvement</th>\n",
       "      <th>EnvironmentSatisfaction</th>\n",
       "      <th>JobSatisfaction</th>\n",
       "      <th>WorkLifeBalance</th>\n",
       "      <th>Prediction</th>\n",
       "    </tr>\n",
       "  </thead>\n",
       "  <tbody>\n",
       "    <tr>\n",
       "      <th>2291</th>\n",
       "      <td>0</td>\n",
       "      <td>33</td>\n",
       "      <td>Travel_Frequently</td>\n",
       "      <td>Sales</td>\n",
       "      <td>23</td>\n",
       "      <td>4</td>\n",
       "      <td>Life_Sciences</td>\n",
       "      <td>Female</td>\n",
       "      <td>1</td>\n",
       "      <td>Human_Resources</td>\n",
       "      <td>Single</td>\n",
       "      <td>31800</td>\n",
       "      <td>1.0</td>\n",
       "      <td>14</td>\n",
       "      <td>1</td>\n",
       "      <td>15.0</td>\n",
       "      <td>2</td>\n",
       "      <td>15</td>\n",
       "      <td>8</td>\n",
       "      <td>12</td>\n",
       "      <td>3</td>\n",
       "      <td>4</td>\n",
       "      <td>3.0</td>\n",
       "      <td>3.0</td>\n",
       "      <td>3.0</td>\n",
       "      <td>0</td>\n",
       "    </tr>\n",
       "    <tr>\n",
       "      <th>950</th>\n",
       "      <td>0</td>\n",
       "      <td>43</td>\n",
       "      <td>Travel_Rarely</td>\n",
       "      <td>Research_Development</td>\n",
       "      <td>2</td>\n",
       "      <td>3</td>\n",
       "      <td>Medical</td>\n",
       "      <td>Male</td>\n",
       "      <td>1</td>\n",
       "      <td>Research_Scientist</td>\n",
       "      <td>Married</td>\n",
       "      <td>90940</td>\n",
       "      <td>1.0</td>\n",
       "      <td>12</td>\n",
       "      <td>1</td>\n",
       "      <td>10.0</td>\n",
       "      <td>0</td>\n",
       "      <td>10</td>\n",
       "      <td>0</td>\n",
       "      <td>9</td>\n",
       "      <td>3</td>\n",
       "      <td>2</td>\n",
       "      <td>2.0</td>\n",
       "      <td>4.0</td>\n",
       "      <td>3.0</td>\n",
       "      <td>0</td>\n",
       "    </tr>\n",
       "    <tr>\n",
       "      <th>2400</th>\n",
       "      <td>0</td>\n",
       "      <td>38</td>\n",
       "      <td>Travel_Rarely</td>\n",
       "      <td>Sales</td>\n",
       "      <td>3</td>\n",
       "      <td>4</td>\n",
       "      <td>Life_Sciences</td>\n",
       "      <td>Male</td>\n",
       "      <td>1</td>\n",
       "      <td>Manufacturing_Director</td>\n",
       "      <td>Single</td>\n",
       "      <td>70820</td>\n",
       "      <td>1.0</td>\n",
       "      <td>14</td>\n",
       "      <td>0</td>\n",
       "      <td>2.0</td>\n",
       "      <td>3</td>\n",
       "      <td>2</td>\n",
       "      <td>2</td>\n",
       "      <td>1</td>\n",
       "      <td>3</td>\n",
       "      <td>2</td>\n",
       "      <td>2.0</td>\n",
       "      <td>2.0</td>\n",
       "      <td>3.0</td>\n",
       "      <td>1</td>\n",
       "    </tr>\n",
       "    <tr>\n",
       "      <th>807</th>\n",
       "      <td>0</td>\n",
       "      <td>45</td>\n",
       "      <td>Travel_Rarely</td>\n",
       "      <td>Research_Development</td>\n",
       "      <td>1</td>\n",
       "      <td>4</td>\n",
       "      <td>Life_Sciences</td>\n",
       "      <td>Male</td>\n",
       "      <td>1</td>\n",
       "      <td>Research_Director</td>\n",
       "      <td>Single</td>\n",
       "      <td>29420</td>\n",
       "      <td>1.0</td>\n",
       "      <td>22</td>\n",
       "      <td>1</td>\n",
       "      <td>21.0</td>\n",
       "      <td>4</td>\n",
       "      <td>21</td>\n",
       "      <td>8</td>\n",
       "      <td>6</td>\n",
       "      <td>4</td>\n",
       "      <td>3</td>\n",
       "      <td>4.0</td>\n",
       "      <td>3.0</td>\n",
       "      <td>3.0</td>\n",
       "      <td>0</td>\n",
       "    </tr>\n",
       "    <tr>\n",
       "      <th>552</th>\n",
       "      <td>0</td>\n",
       "      <td>44</td>\n",
       "      <td>Travel_Rarely</td>\n",
       "      <td>Research_Development</td>\n",
       "      <td>2</td>\n",
       "      <td>4</td>\n",
       "      <td>Life_Sciences</td>\n",
       "      <td>Male</td>\n",
       "      <td>2</td>\n",
       "      <td>Research_Scientist</td>\n",
       "      <td>Divorced</td>\n",
       "      <td>47070</td>\n",
       "      <td>1.0</td>\n",
       "      <td>17</td>\n",
       "      <td>0</td>\n",
       "      <td>26.0</td>\n",
       "      <td>4</td>\n",
       "      <td>25</td>\n",
       "      <td>14</td>\n",
       "      <td>13</td>\n",
       "      <td>3</td>\n",
       "      <td>3</td>\n",
       "      <td>1.0</td>\n",
       "      <td>3.0</td>\n",
       "      <td>4.0</td>\n",
       "      <td>0</td>\n",
       "    </tr>\n",
       "    <tr>\n",
       "      <th>1772</th>\n",
       "      <td>0</td>\n",
       "      <td>34</td>\n",
       "      <td>Travel_Rarely</td>\n",
       "      <td>Sales</td>\n",
       "      <td>7</td>\n",
       "      <td>4</td>\n",
       "      <td>Medical</td>\n",
       "      <td>Female</td>\n",
       "      <td>2</td>\n",
       "      <td>Laboratory_Technician</td>\n",
       "      <td>Married</td>\n",
       "      <td>27410</td>\n",
       "      <td>0.0</td>\n",
       "      <td>15</td>\n",
       "      <td>1</td>\n",
       "      <td>2.0</td>\n",
       "      <td>3</td>\n",
       "      <td>1</td>\n",
       "      <td>0</td>\n",
       "      <td>0</td>\n",
       "      <td>3</td>\n",
       "      <td>3</td>\n",
       "      <td>2.0</td>\n",
       "      <td>2.0</td>\n",
       "      <td>3.0</td>\n",
       "      <td>0</td>\n",
       "    </tr>\n",
       "    <tr>\n",
       "      <th>2916</th>\n",
       "      <td>0</td>\n",
       "      <td>48</td>\n",
       "      <td>Non-Travel</td>\n",
       "      <td>Sales</td>\n",
       "      <td>2</td>\n",
       "      <td>1</td>\n",
       "      <td>Life_Sciences</td>\n",
       "      <td>Male</td>\n",
       "      <td>2</td>\n",
       "      <td>Sales_Executive</td>\n",
       "      <td>Single</td>\n",
       "      <td>23700</td>\n",
       "      <td>2.0</td>\n",
       "      <td>11</td>\n",
       "      <td>0</td>\n",
       "      <td>27.0</td>\n",
       "      <td>3</td>\n",
       "      <td>5</td>\n",
       "      <td>2</td>\n",
       "      <td>1</td>\n",
       "      <td>3</td>\n",
       "      <td>2</td>\n",
       "      <td>4.0</td>\n",
       "      <td>4.0</td>\n",
       "      <td>4.0</td>\n",
       "      <td>0</td>\n",
       "    </tr>\n",
       "    <tr>\n",
       "      <th>2735</th>\n",
       "      <td>0</td>\n",
       "      <td>54</td>\n",
       "      <td>Travel_Rarely</td>\n",
       "      <td>Research_Development</td>\n",
       "      <td>14</td>\n",
       "      <td>4</td>\n",
       "      <td>Medical</td>\n",
       "      <td>Female</td>\n",
       "      <td>2</td>\n",
       "      <td>Laboratory_Technician</td>\n",
       "      <td>Divorced</td>\n",
       "      <td>49630</td>\n",
       "      <td>9.0</td>\n",
       "      <td>15</td>\n",
       "      <td>1</td>\n",
       "      <td>9.0</td>\n",
       "      <td>2</td>\n",
       "      <td>5</td>\n",
       "      <td>1</td>\n",
       "      <td>4</td>\n",
       "      <td>3</td>\n",
       "      <td>4</td>\n",
       "      <td>3.0</td>\n",
       "      <td>1.0</td>\n",
       "      <td>3.0</td>\n",
       "      <td>0</td>\n",
       "    </tr>\n",
       "    <tr>\n",
       "      <th>1215</th>\n",
       "      <td>0</td>\n",
       "      <td>32</td>\n",
       "      <td>Travel_Rarely</td>\n",
       "      <td>Human_Resources</td>\n",
       "      <td>10</td>\n",
       "      <td>4</td>\n",
       "      <td>Life_Sciences</td>\n",
       "      <td>Female</td>\n",
       "      <td>3</td>\n",
       "      <td>Manufacturing_Director</td>\n",
       "      <td>Married</td>\n",
       "      <td>85640</td>\n",
       "      <td>2.0</td>\n",
       "      <td>16</td>\n",
       "      <td>1</td>\n",
       "      <td>6.0</td>\n",
       "      <td>2</td>\n",
       "      <td>4</td>\n",
       "      <td>1</td>\n",
       "      <td>2</td>\n",
       "      <td>3</td>\n",
       "      <td>4</td>\n",
       "      <td>4.0</td>\n",
       "      <td>3.0</td>\n",
       "      <td>3.0</td>\n",
       "      <td>0</td>\n",
       "    </tr>\n",
       "    <tr>\n",
       "      <th>1427</th>\n",
       "      <td>0</td>\n",
       "      <td>42</td>\n",
       "      <td>Travel_Rarely</td>\n",
       "      <td>Research_Development</td>\n",
       "      <td>22</td>\n",
       "      <td>4</td>\n",
       "      <td>Life_Sciences</td>\n",
       "      <td>Female</td>\n",
       "      <td>2</td>\n",
       "      <td>Manufacturing_Director</td>\n",
       "      <td>Married</td>\n",
       "      <td>26450</td>\n",
       "      <td>1.0</td>\n",
       "      <td>15</td>\n",
       "      <td>0</td>\n",
       "      <td>10.0</td>\n",
       "      <td>5</td>\n",
       "      <td>10</td>\n",
       "      <td>2</td>\n",
       "      <td>2</td>\n",
       "      <td>3</td>\n",
       "      <td>2</td>\n",
       "      <td>4.0</td>\n",
       "      <td>4.0</td>\n",
       "      <td>3.0</td>\n",
       "      <td>0</td>\n",
       "    </tr>\n",
       "    <tr>\n",
       "      <th>940</th>\n",
       "      <td>0</td>\n",
       "      <td>26</td>\n",
       "      <td>Travel_Rarely</td>\n",
       "      <td>Research_Development</td>\n",
       "      <td>2</td>\n",
       "      <td>2</td>\n",
       "      <td>Life_Sciences</td>\n",
       "      <td>Male</td>\n",
       "      <td>2</td>\n",
       "      <td>Research_Scientist</td>\n",
       "      <td>Single</td>\n",
       "      <td>20800</td>\n",
       "      <td>0.0</td>\n",
       "      <td>13</td>\n",
       "      <td>0</td>\n",
       "      <td>8.0</td>\n",
       "      <td>6</td>\n",
       "      <td>7</td>\n",
       "      <td>7</td>\n",
       "      <td>6</td>\n",
       "      <td>3</td>\n",
       "      <td>3</td>\n",
       "      <td>4.0</td>\n",
       "      <td>4.0</td>\n",
       "      <td>3.0</td>\n",
       "      <td>0</td>\n",
       "    </tr>\n",
       "    <tr>\n",
       "      <th>802</th>\n",
       "      <td>0</td>\n",
       "      <td>41</td>\n",
       "      <td>Travel_Rarely</td>\n",
       "      <td>Sales</td>\n",
       "      <td>5</td>\n",
       "      <td>4</td>\n",
       "      <td>Marketing</td>\n",
       "      <td>Male</td>\n",
       "      <td>1</td>\n",
       "      <td>Research_Scientist</td>\n",
       "      <td>Single</td>\n",
       "      <td>28210</td>\n",
       "      <td>1.0</td>\n",
       "      <td>17</td>\n",
       "      <td>0</td>\n",
       "      <td>10.0</td>\n",
       "      <td>3</td>\n",
       "      <td>10</td>\n",
       "      <td>8</td>\n",
       "      <td>7</td>\n",
       "      <td>3</td>\n",
       "      <td>3</td>\n",
       "      <td>2.0</td>\n",
       "      <td>1.0</td>\n",
       "      <td>3.0</td>\n",
       "      <td>0</td>\n",
       "    </tr>\n",
       "    <tr>\n",
       "      <th>197</th>\n",
       "      <td>0</td>\n",
       "      <td>43</td>\n",
       "      <td>Travel_Frequently</td>\n",
       "      <td>Sales</td>\n",
       "      <td>3</td>\n",
       "      <td>3</td>\n",
       "      <td>Medical</td>\n",
       "      <td>Female</td>\n",
       "      <td>2</td>\n",
       "      <td>Healthcare_Representative</td>\n",
       "      <td>Divorced</td>\n",
       "      <td>34190</td>\n",
       "      <td>3.0</td>\n",
       "      <td>11</td>\n",
       "      <td>1</td>\n",
       "      <td>10.0</td>\n",
       "      <td>5</td>\n",
       "      <td>8</td>\n",
       "      <td>4</td>\n",
       "      <td>7</td>\n",
       "      <td>3</td>\n",
       "      <td>3</td>\n",
       "      <td>1.0</td>\n",
       "      <td>3.0</td>\n",
       "      <td>1.0</td>\n",
       "      <td>1</td>\n",
       "    </tr>\n",
       "    <tr>\n",
       "      <th>3833</th>\n",
       "      <td>1</td>\n",
       "      <td>31</td>\n",
       "      <td>Travel_Frequently</td>\n",
       "      <td>Research_Development</td>\n",
       "      <td>8</td>\n",
       "      <td>4</td>\n",
       "      <td>Life_Sciences</td>\n",
       "      <td>Male</td>\n",
       "      <td>1</td>\n",
       "      <td>Laboratory_Technician</td>\n",
       "      <td>Married</td>\n",
       "      <td>65000</td>\n",
       "      <td>6.0</td>\n",
       "      <td>19</td>\n",
       "      <td>1</td>\n",
       "      <td>7.0</td>\n",
       "      <td>5</td>\n",
       "      <td>2</td>\n",
       "      <td>2</td>\n",
       "      <td>2</td>\n",
       "      <td>2</td>\n",
       "      <td>3</td>\n",
       "      <td>1.0</td>\n",
       "      <td>3.0</td>\n",
       "      <td>3.0</td>\n",
       "      <td>0</td>\n",
       "    </tr>\n",
       "    <tr>\n",
       "      <th>3060</th>\n",
       "      <td>0</td>\n",
       "      <td>35</td>\n",
       "      <td>Travel_Rarely</td>\n",
       "      <td>Research_Development</td>\n",
       "      <td>1</td>\n",
       "      <td>4</td>\n",
       "      <td>Other</td>\n",
       "      <td>Female</td>\n",
       "      <td>2</td>\n",
       "      <td>Research_Director</td>\n",
       "      <td>Married</td>\n",
       "      <td>81200</td>\n",
       "      <td>0.0</td>\n",
       "      <td>13</td>\n",
       "      <td>0</td>\n",
       "      <td>10.0</td>\n",
       "      <td>2</td>\n",
       "      <td>9</td>\n",
       "      <td>0</td>\n",
       "      <td>0</td>\n",
       "      <td>3</td>\n",
       "      <td>4</td>\n",
       "      <td>2.0</td>\n",
       "      <td>4.0</td>\n",
       "      <td>4.0</td>\n",
       "      <td>0</td>\n",
       "    </tr>\n",
       "    <tr>\n",
       "      <th>2420</th>\n",
       "      <td>0</td>\n",
       "      <td>49</td>\n",
       "      <td>Non-Travel</td>\n",
       "      <td>Research_Development</td>\n",
       "      <td>18</td>\n",
       "      <td>1</td>\n",
       "      <td>Other</td>\n",
       "      <td>Female</td>\n",
       "      <td>2</td>\n",
       "      <td>Sales_Executive</td>\n",
       "      <td>Divorced</td>\n",
       "      <td>92410</td>\n",
       "      <td>1.0</td>\n",
       "      <td>19</td>\n",
       "      <td>1</td>\n",
       "      <td>7.0</td>\n",
       "      <td>5</td>\n",
       "      <td>7</td>\n",
       "      <td>1</td>\n",
       "      <td>7</td>\n",
       "      <td>3</td>\n",
       "      <td>1</td>\n",
       "      <td>2.0</td>\n",
       "      <td>4.0</td>\n",
       "      <td>4.0</td>\n",
       "      <td>0</td>\n",
       "    </tr>\n",
       "    <tr>\n",
       "      <th>4306</th>\n",
       "      <td>1</td>\n",
       "      <td>31</td>\n",
       "      <td>Travel_Frequently</td>\n",
       "      <td>Sales</td>\n",
       "      <td>2</td>\n",
       "      <td>3</td>\n",
       "      <td>Medical</td>\n",
       "      <td>Male</td>\n",
       "      <td>2</td>\n",
       "      <td>Sales_Executive</td>\n",
       "      <td>Single</td>\n",
       "      <td>25720</td>\n",
       "      <td>1.0</td>\n",
       "      <td>9</td>\n",
       "      <td>3</td>\n",
       "      <td>10.0</td>\n",
       "      <td>3</td>\n",
       "      <td>10</td>\n",
       "      <td>4</td>\n",
       "      <td>7</td>\n",
       "      <td>3</td>\n",
       "      <td>1</td>\n",
       "      <td>2.0</td>\n",
       "      <td>2.0</td>\n",
       "      <td>3.0</td>\n",
       "      <td>1</td>\n",
       "    </tr>\n",
       "    <tr>\n",
       "      <th>2525</th>\n",
       "      <td>0</td>\n",
       "      <td>39</td>\n",
       "      <td>Travel_Frequently</td>\n",
       "      <td>Research_Development</td>\n",
       "      <td>15</td>\n",
       "      <td>4</td>\n",
       "      <td>Medical</td>\n",
       "      <td>Female</td>\n",
       "      <td>1</td>\n",
       "      <td>Research_Scientist</td>\n",
       "      <td>Married</td>\n",
       "      <td>20620</td>\n",
       "      <td>1.0</td>\n",
       "      <td>13</td>\n",
       "      <td>0</td>\n",
       "      <td>21.0</td>\n",
       "      <td>4</td>\n",
       "      <td>21</td>\n",
       "      <td>13</td>\n",
       "      <td>3</td>\n",
       "      <td>3</td>\n",
       "      <td>2</td>\n",
       "      <td>1.0</td>\n",
       "      <td>2.0</td>\n",
       "      <td>3.0</td>\n",
       "      <td>1</td>\n",
       "    </tr>\n",
       "    <tr>\n",
       "      <th>1209</th>\n",
       "      <td>0</td>\n",
       "      <td>52</td>\n",
       "      <td>Travel_Rarely</td>\n",
       "      <td>Research_Development</td>\n",
       "      <td>1</td>\n",
       "      <td>2</td>\n",
       "      <td>Medical</td>\n",
       "      <td>Female</td>\n",
       "      <td>4</td>\n",
       "      <td>Manager</td>\n",
       "      <td>Single</td>\n",
       "      <td>83460</td>\n",
       "      <td>7.0</td>\n",
       "      <td>14</td>\n",
       "      <td>0</td>\n",
       "      <td>6.0</td>\n",
       "      <td>5</td>\n",
       "      <td>2</td>\n",
       "      <td>2</td>\n",
       "      <td>2</td>\n",
       "      <td>3</td>\n",
       "      <td>4</td>\n",
       "      <td>3.0</td>\n",
       "      <td>2.0</td>\n",
       "      <td>3.0</td>\n",
       "      <td>0</td>\n",
       "    </tr>\n",
       "    <tr>\n",
       "      <th>4084</th>\n",
       "      <td>1</td>\n",
       "      <td>28</td>\n",
       "      <td>Travel_Rarely</td>\n",
       "      <td>Human_Resources</td>\n",
       "      <td>1</td>\n",
       "      <td>3</td>\n",
       "      <td>Medical</td>\n",
       "      <td>Female</td>\n",
       "      <td>2</td>\n",
       "      <td>Laboratory_Technician</td>\n",
       "      <td>Married</td>\n",
       "      <td>24130</td>\n",
       "      <td>1.0</td>\n",
       "      <td>10</td>\n",
       "      <td>1</td>\n",
       "      <td>1.0</td>\n",
       "      <td>2</td>\n",
       "      <td>1</td>\n",
       "      <td>0</td>\n",
       "      <td>0</td>\n",
       "      <td>3</td>\n",
       "      <td>3</td>\n",
       "      <td>4.0</td>\n",
       "      <td>2.0</td>\n",
       "      <td>2.0</td>\n",
       "      <td>1</td>\n",
       "    </tr>\n",
       "  </tbody>\n",
       "</table>\n",
       "</div>"
      ],
      "text/plain": [
       "      Attrition  Age     BusinessTravel            Department  \\\n",
       "2291          0   33  Travel_Frequently                 Sales   \n",
       "950           0   43      Travel_Rarely  Research_Development   \n",
       "2400          0   38      Travel_Rarely                 Sales   \n",
       "807           0   45      Travel_Rarely  Research_Development   \n",
       "552           0   44      Travel_Rarely  Research_Development   \n",
       "1772          0   34      Travel_Rarely                 Sales   \n",
       "2916          0   48         Non-Travel                 Sales   \n",
       "2735          0   54      Travel_Rarely  Research_Development   \n",
       "1215          0   32      Travel_Rarely       Human_Resources   \n",
       "1427          0   42      Travel_Rarely  Research_Development   \n",
       "940           0   26      Travel_Rarely  Research_Development   \n",
       "802           0   41      Travel_Rarely                 Sales   \n",
       "197           0   43  Travel_Frequently                 Sales   \n",
       "3833          1   31  Travel_Frequently  Research_Development   \n",
       "3060          0   35      Travel_Rarely  Research_Development   \n",
       "2420          0   49         Non-Travel  Research_Development   \n",
       "4306          1   31  Travel_Frequently                 Sales   \n",
       "2525          0   39  Travel_Frequently  Research_Development   \n",
       "1209          0   52      Travel_Rarely  Research_Development   \n",
       "4084          1   28      Travel_Rarely       Human_Resources   \n",
       "\n",
       "      DistanceFromHome  Education EducationField  Gender  JobLevel  \\\n",
       "2291                23          4  Life_Sciences  Female         1   \n",
       "950                  2          3        Medical    Male         1   \n",
       "2400                 3          4  Life_Sciences    Male         1   \n",
       "807                  1          4  Life_Sciences    Male         1   \n",
       "552                  2          4  Life_Sciences    Male         2   \n",
       "1772                 7          4        Medical  Female         2   \n",
       "2916                 2          1  Life_Sciences    Male         2   \n",
       "2735                14          4        Medical  Female         2   \n",
       "1215                10          4  Life_Sciences  Female         3   \n",
       "1427                22          4  Life_Sciences  Female         2   \n",
       "940                  2          2  Life_Sciences    Male         2   \n",
       "802                  5          4      Marketing    Male         1   \n",
       "197                  3          3        Medical  Female         2   \n",
       "3833                 8          4  Life_Sciences    Male         1   \n",
       "3060                 1          4          Other  Female         2   \n",
       "2420                18          1          Other  Female         2   \n",
       "4306                 2          3        Medical    Male         2   \n",
       "2525                15          4        Medical  Female         1   \n",
       "1209                 1          2        Medical  Female         4   \n",
       "4084                 1          3        Medical  Female         2   \n",
       "\n",
       "                        JobRole MaritalStatus  MonthlyIncome  \\\n",
       "2291            Human_Resources        Single          31800   \n",
       "950          Research_Scientist       Married          90940   \n",
       "2400     Manufacturing_Director        Single          70820   \n",
       "807           Research_Director        Single          29420   \n",
       "552          Research_Scientist      Divorced          47070   \n",
       "1772      Laboratory_Technician       Married          27410   \n",
       "2916            Sales_Executive        Single          23700   \n",
       "2735      Laboratory_Technician      Divorced          49630   \n",
       "1215     Manufacturing_Director       Married          85640   \n",
       "1427     Manufacturing_Director       Married          26450   \n",
       "940          Research_Scientist        Single          20800   \n",
       "802          Research_Scientist        Single          28210   \n",
       "197   Healthcare_Representative      Divorced          34190   \n",
       "3833      Laboratory_Technician       Married          65000   \n",
       "3060          Research_Director       Married          81200   \n",
       "2420            Sales_Executive      Divorced          92410   \n",
       "4306            Sales_Executive        Single          25720   \n",
       "2525         Research_Scientist       Married          20620   \n",
       "1209                    Manager        Single          83460   \n",
       "4084      Laboratory_Technician       Married          24130   \n",
       "\n",
       "      NumCompaniesWorked  PercentSalaryHike  StockOptionLevel  \\\n",
       "2291                 1.0                 14                 1   \n",
       "950                  1.0                 12                 1   \n",
       "2400                 1.0                 14                 0   \n",
       "807                  1.0                 22                 1   \n",
       "552                  1.0                 17                 0   \n",
       "1772                 0.0                 15                 1   \n",
       "2916                 2.0                 11                 0   \n",
       "2735                 9.0                 15                 1   \n",
       "1215                 2.0                 16                 1   \n",
       "1427                 1.0                 15                 0   \n",
       "940                  0.0                 13                 0   \n",
       "802                  1.0                 17                 0   \n",
       "197                  3.0                 11                 1   \n",
       "3833                 6.0                 19                 1   \n",
       "3060                 0.0                 13                 0   \n",
       "2420                 1.0                 19                 1   \n",
       "4306                 1.0                  9                 3   \n",
       "2525                 1.0                 13                 0   \n",
       "1209                 7.0                 14                 0   \n",
       "4084                 1.0                 10                 1   \n",
       "\n",
       "      TotalWorkingYears  TrainingTimesLastYear  YearsAtCompany  \\\n",
       "2291               15.0                      2              15   \n",
       "950                10.0                      0              10   \n",
       "2400                2.0                      3               2   \n",
       "807                21.0                      4              21   \n",
       "552                26.0                      4              25   \n",
       "1772                2.0                      3               1   \n",
       "2916               27.0                      3               5   \n",
       "2735                9.0                      2               5   \n",
       "1215                6.0                      2               4   \n",
       "1427               10.0                      5              10   \n",
       "940                 8.0                      6               7   \n",
       "802                10.0                      3              10   \n",
       "197                10.0                      5               8   \n",
       "3833                7.0                      5               2   \n",
       "3060               10.0                      2               9   \n",
       "2420                7.0                      5               7   \n",
       "4306               10.0                      3              10   \n",
       "2525               21.0                      4              21   \n",
       "1209                6.0                      5               2   \n",
       "4084                1.0                      2               1   \n",
       "\n",
       "      YearsSinceLastPromotion  YearsWithCurrManager  PerformanceRating  \\\n",
       "2291                        8                    12                  3   \n",
       "950                         0                     9                  3   \n",
       "2400                        2                     1                  3   \n",
       "807                         8                     6                  4   \n",
       "552                        14                    13                  3   \n",
       "1772                        0                     0                  3   \n",
       "2916                        2                     1                  3   \n",
       "2735                        1                     4                  3   \n",
       "1215                        1                     2                  3   \n",
       "1427                        2                     2                  3   \n",
       "940                         7                     6                  3   \n",
       "802                         8                     7                  3   \n",
       "197                         4                     7                  3   \n",
       "3833                        2                     2                  2   \n",
       "3060                        0                     0                  3   \n",
       "2420                        1                     7                  3   \n",
       "4306                        4                     7                  3   \n",
       "2525                       13                     3                  3   \n",
       "1209                        2                     2                  3   \n",
       "4084                        0                     0                  3   \n",
       "\n",
       "      JobInvolvement  EnvironmentSatisfaction  JobSatisfaction  \\\n",
       "2291               4                      3.0              3.0   \n",
       "950                2                      2.0              4.0   \n",
       "2400               2                      2.0              2.0   \n",
       "807                3                      4.0              3.0   \n",
       "552                3                      1.0              3.0   \n",
       "1772               3                      2.0              2.0   \n",
       "2916               2                      4.0              4.0   \n",
       "2735               4                      3.0              1.0   \n",
       "1215               4                      4.0              3.0   \n",
       "1427               2                      4.0              4.0   \n",
       "940                3                      4.0              4.0   \n",
       "802                3                      2.0              1.0   \n",
       "197                3                      1.0              3.0   \n",
       "3833               3                      1.0              3.0   \n",
       "3060               4                      2.0              4.0   \n",
       "2420               1                      2.0              4.0   \n",
       "4306               1                      2.0              2.0   \n",
       "2525               2                      1.0              2.0   \n",
       "1209               4                      3.0              2.0   \n",
       "4084               3                      4.0              2.0   \n",
       "\n",
       "      WorkLifeBalance  Prediction  \n",
       "2291              3.0           0  \n",
       "950               3.0           0  \n",
       "2400              3.0           1  \n",
       "807               3.0           0  \n",
       "552               4.0           0  \n",
       "1772              3.0           0  \n",
       "2916              4.0           0  \n",
       "2735              3.0           0  \n",
       "1215              3.0           0  \n",
       "1427              3.0           0  \n",
       "940               3.0           0  \n",
       "802               3.0           0  \n",
       "197               1.0           1  \n",
       "3833              3.0           0  \n",
       "3060              4.0           0  \n",
       "2420              4.0           0  \n",
       "4306              3.0           1  \n",
       "2525              3.0           1  \n",
       "1209              3.0           0  \n",
       "4084              2.0           1  "
      ]
     },
     "execution_count": 40,
     "metadata": {},
     "output_type": "execute_result"
    }
   ],
   "source": [
    "# create sample data to act as real data\n",
    "data_for_prediction = data.sample(n=20)\n",
    "# make prediction\n",
    "prediction = predict_real_data(data_for_prediction)\n",
    "# combine prediction result to the data frame\n",
    "data_for_prediction['Prediction'] = prediction\n",
    "data_for_prediction"
   ]
  }
 ],
 "metadata": {
  "kernelspec": {
   "display_name": "Python 3",
   "language": "python",
   "name": "python3"
  },
  "language_info": {
   "codemirror_mode": {
    "name": "ipython",
    "version": 3
   },
   "file_extension": ".py",
   "mimetype": "text/x-python",
   "name": "python",
   "nbconvert_exporter": "python",
   "pygments_lexer": "ipython3",
   "version": "3.12.0"
  }
 },
 "nbformat": 4,
 "nbformat_minor": 2
}
